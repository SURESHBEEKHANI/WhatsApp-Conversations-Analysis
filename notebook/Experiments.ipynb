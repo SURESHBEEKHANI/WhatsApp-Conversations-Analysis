{
 "cells": [
  {
   "cell_type": "markdown",
   "metadata": {},
   "source": [
    "#### **WhatsApp Chat Analysis in Streamlit**\n",
    "\n",
    "This notebook will guide you through building a **Streamlit app** to analyze WhatsApp chat data. The app allows users to upload their WhatsApp chat exports and provides various insights, such as message frequency, sentiment analysis, and the most active users."
   ]
  },
  {
   "cell_type": "markdown",
   "metadata": {},
   "source": [
    "#### **WhatsApp Chat Data Processing**\n",
    "\n",
    "In this notebook, we process a WhatsApp chat data file using regular expressions and `pandas` to clean and structure the data for further analysis.\n",
    "\n",
    "#### **Import Libraries** \n",
    "\n",
    "We will use `re` for regular expressions and `pandas` for data manipulation."
   ]
  },
  {
   "cell_type": "code",
   "execution_count": 26,
   "metadata": {},
   "outputs": [
    {
     "data": {
      "text/html": [
       "<div>\n",
       "<style scoped>\n",
       "    .dataframe tbody tr th:only-of-type {\n",
       "        vertical-align: middle;\n",
       "    }\n",
       "\n",
       "    .dataframe tbody tr th {\n",
       "        vertical-align: top;\n",
       "    }\n",
       "\n",
       "    .dataframe thead th {\n",
       "        text-align: right;\n",
       "    }\n",
       "</style>\n",
       "<table border=\"1\" class=\"dataframe\">\n",
       "  <thead>\n",
       "    <tr style=\"text-align: right;\">\n",
       "      <th></th>\n",
       "      <th>User</th>\n",
       "      <th>Message</th>\n",
       "      <th>Day</th>\n",
       "      <th>Month</th>\n",
       "      <th>Year</th>\n",
       "      <th>AMPM</th>\n",
       "      <th>Hour</th>\n",
       "      <th>Minute</th>\n",
       "    </tr>\n",
       "  </thead>\n",
       "  <tbody>\n",
       "    <tr>\n",
       "      <th>0</th>\n",
       "      <td>+92 303 6123098</td>\n",
       "      <td>Assalamualaikum wa rehmatullahi wa baraktuh</td>\n",
       "      <td>Thursday</td>\n",
       "      <td>July</td>\n",
       "      <td>2024</td>\n",
       "      <td>pm</td>\n",
       "      <td>6</td>\n",
       "      <td>39</td>\n",
       "    </tr>\n",
       "    <tr>\n",
       "      <th>1</th>\n",
       "      <td>+92 303 6123098</td>\n",
       "      <td>Agr koe kr skta to mjy bta dyn Mai unko cv per...</td>\n",
       "      <td>Thursday</td>\n",
       "      <td>July</td>\n",
       "      <td>2024</td>\n",
       "      <td>pm</td>\n",
       "      <td>6</td>\n",
       "      <td>40</td>\n",
       "    </tr>\n",
       "    <tr>\n",
       "      <th>2</th>\n",
       "      <td>+92 328 9460713</td>\n",
       "      <td>&lt;Media omitted&gt;</td>\n",
       "      <td>Thursday</td>\n",
       "      <td>July</td>\n",
       "      <td>2024</td>\n",
       "      <td>pm</td>\n",
       "      <td>9</td>\n",
       "      <td>36</td>\n",
       "    </tr>\n",
       "    <tr>\n",
       "      <th>3</th>\n",
       "      <td>+92 328 9460713</td>\n",
       "      <td>Remember Brothers, Don't miss it !</td>\n",
       "      <td>Thursday</td>\n",
       "      <td>July</td>\n",
       "      <td>2024</td>\n",
       "      <td>pm</td>\n",
       "      <td>9</td>\n",
       "      <td>38</td>\n",
       "    </tr>\n",
       "    <tr>\n",
       "      <th>4</th>\n",
       "      <td>+92 310 8668380</td>\n",
       "      <td>&lt;Media omitted&gt;</td>\n",
       "      <td>Friday</td>\n",
       "      <td>July</td>\n",
       "      <td>2024</td>\n",
       "      <td>am</td>\n",
       "      <td>3</td>\n",
       "      <td>18</td>\n",
       "    </tr>\n",
       "  </tbody>\n",
       "</table>\n",
       "</div>"
      ],
      "text/plain": [
       "              User                                            Message  \\\n",
       "0  +92 303 6123098       Assalamualaikum wa rehmatullahi wa baraktuh    \n",
       "1  +92 303 6123098  Agr koe kr skta to mjy bta dyn Mai unko cv per...   \n",
       "2  +92 328 9460713                                    <Media omitted>   \n",
       "3  +92 328 9460713                 Remember Brothers, Don't miss it !   \n",
       "4  +92 310 8668380                                    <Media omitted>   \n",
       "\n",
       "        Day Month  Year AMPM Hour Minute  \n",
       "0  Thursday  July  2024   pm    6     39  \n",
       "1  Thursday  July  2024   pm    6     40  \n",
       "2  Thursday  July  2024   pm    9     36  \n",
       "3  Thursday  July  2024   pm    9     38  \n",
       "4    Friday  July  2024   am    3     18  "
      ]
     },
     "execution_count": 26,
     "metadata": {},
     "output_type": "execute_result"
    }
   ],
   "source": [
    "import re\n",
    "import pandas as pd # type: ignore\n",
    "\n",
    "f = open(\"WhatsApp Chat with Group discussion(AI).txt\", \"r\", encoding=\"utf-8\")\n",
    "data=f.read()\n",
    "\n",
    "# Regex pattern to match the chat log format\n",
    "pattern = r\"(\\d{2}/\\d{2}/\\d{4}),\\s(\\d{1,2}:\\d{2}\\s?[ap]m)\\s-\\s(\\+\\d{2}\\s\\d{3}\\s\\d{7}):\\s(.*)\"\n",
    "\n",
    "# Assuming `data` is the raw chat log string\n",
    "matches = re.findall(pattern, data)\n",
    "\n",
    "# Create a DataFrame from the extracted matches\n",
    "df = pd.DataFrame(matches, columns=['Date', 'Time', 'User', 'Message'])\n",
    "\n",
    "# Split the 'Date' column into 'Day', 'Month', 'Year'\n",
    "df[['Day', 'Month', 'Year']] = df['Date'].str.split('/', expand=True)\n",
    "\n",
    "# Convert 'Date' to datetime format to extract the day name and month name\n",
    "df['Date'] = pd.to_datetime(df['Date'], format='%d/%m/%Y')\n",
    "\n",
    "# Extract the Day name (e.g., Monday, Tuesday)\n",
    "df['Day'] = df['Date'].dt.strftime('%A')  # Get the day name (e.g., \"Monday\")\n",
    "\n",
    "# Extract the Month name (e.g., January, February)\n",
    "df['Month'] = df['Date'].dt.strftime('%B')  # Get the full month name (e.g., \"July\")\n",
    "\n",
    "# Clean up and split the 'Time' column into 'Hour', 'Minute', and 'AMPM'\n",
    "df['Time'] = df['Time'].str.replace('\\u202f', ' ')  # Remove non-breaking spaces\n",
    "\n",
    "# Split the cleaned 'Time' column into 'Hour:Minute' and 'AMPM'\n",
    "df[['Hour_Minute', 'AMPM']] = df['Time'].str.extract(r'(\\d{1,2}:\\d{2})\\s?(am|pm)', expand=True)\n",
    "\n",
    "# Split the 'Hour_Minute' into 'Hour' and 'Minute'\n",
    "df[['Hour', 'Minute']] = df['Hour_Minute'].str.split(':', expand=True)\n",
    "\n",
    "# Drop the original 'Date' and 'Time' columns if you don't need them anymore\n",
    "df = df.drop(columns=['Date', 'Time', 'Hour_Minute'])\n",
    "\n",
    "# Display the DataFrame\n",
    "df.head()\n"
   ]
  },
  {
   "cell_type": "markdown",
   "metadata": {},
   "source": [
    "### **2. Basic Statistics** ###"
   ]
  },
  {
   "cell_type": "code",
   "execution_count": 27,
   "metadata": {},
   "outputs": [
    {
     "data": {
      "text/html": [
       "<div>\n",
       "<style scoped>\n",
       "    .dataframe tbody tr th:only-of-type {\n",
       "        vertical-align: middle;\n",
       "    }\n",
       "\n",
       "    .dataframe tbody tr th {\n",
       "        vertical-align: top;\n",
       "    }\n",
       "\n",
       "    .dataframe thead th {\n",
       "        text-align: right;\n",
       "    }\n",
       "</style>\n",
       "<table border=\"1\" class=\"dataframe\">\n",
       "  <thead>\n",
       "    <tr style=\"text-align: right;\">\n",
       "      <th></th>\n",
       "      <th>User</th>\n",
       "      <th>Message</th>\n",
       "      <th>Day</th>\n",
       "      <th>Month</th>\n",
       "      <th>Year</th>\n",
       "      <th>AMPM</th>\n",
       "      <th>Hour</th>\n",
       "      <th>Minute</th>\n",
       "    </tr>\n",
       "  </thead>\n",
       "  <tbody>\n",
       "    <tr>\n",
       "      <th>count</th>\n",
       "      <td>960</td>\n",
       "      <td>960</td>\n",
       "      <td>960</td>\n",
       "      <td>960</td>\n",
       "      <td>960</td>\n",
       "      <td>960</td>\n",
       "      <td>960</td>\n",
       "      <td>960</td>\n",
       "    </tr>\n",
       "    <tr>\n",
       "      <th>unique</th>\n",
       "      <td>103</td>\n",
       "      <td>738</td>\n",
       "      <td>7</td>\n",
       "      <td>5</td>\n",
       "      <td>1</td>\n",
       "      <td>2</td>\n",
       "      <td>12</td>\n",
       "      <td>60</td>\n",
       "    </tr>\n",
       "    <tr>\n",
       "      <th>top</th>\n",
       "      <td>+92 307 7789508</td>\n",
       "      <td>&lt;Media omitted&gt;</td>\n",
       "      <td>Thursday</td>\n",
       "      <td>August</td>\n",
       "      <td>2024</td>\n",
       "      <td>pm</td>\n",
       "      <td>11</td>\n",
       "      <td>02</td>\n",
       "    </tr>\n",
       "    <tr>\n",
       "      <th>freq</th>\n",
       "      <td>88</td>\n",
       "      <td>145</td>\n",
       "      <td>247</td>\n",
       "      <td>324</td>\n",
       "      <td>960</td>\n",
       "      <td>708</td>\n",
       "      <td>136</td>\n",
       "      <td>39</td>\n",
       "    </tr>\n",
       "  </tbody>\n",
       "</table>\n",
       "</div>"
      ],
      "text/plain": [
       "                   User          Message       Day   Month  Year AMPM Hour  \\\n",
       "count               960              960       960     960   960  960  960   \n",
       "unique              103              738         7       5     1    2   12   \n",
       "top     +92 307 7789508  <Media omitted>  Thursday  August  2024   pm   11   \n",
       "freq                 88              145       247     324   960  708  136   \n",
       "\n",
       "       Minute  \n",
       "count     960  \n",
       "unique     60  \n",
       "top        02  \n",
       "freq       39  "
      ]
     },
     "execution_count": 27,
     "metadata": {},
     "output_type": "execute_result"
    }
   ],
   "source": [
    "df.describe()"
   ]
  },
  {
   "cell_type": "code",
   "execution_count": 28,
   "metadata": {},
   "outputs": [
    {
     "name": "stdout",
     "output_type": "stream",
     "text": [
      "<class 'pandas.core.frame.DataFrame'>\n",
      "RangeIndex: 960 entries, 0 to 959\n",
      "Data columns (total 8 columns):\n",
      " #   Column   Non-Null Count  Dtype \n",
      "---  ------   --------------  ----- \n",
      " 0   User     960 non-null    object\n",
      " 1   Message  960 non-null    object\n",
      " 2   Day      960 non-null    object\n",
      " 3   Month    960 non-null    object\n",
      " 4   Year     960 non-null    object\n",
      " 5   AMPM     960 non-null    object\n",
      " 6   Hour     960 non-null    object\n",
      " 7   Minute   960 non-null    object\n",
      "dtypes: object(8)\n",
      "memory usage: 60.1+ KB\n"
     ]
    }
   ],
   "source": [
    "# Basic stats and general information\n",
    "df.info()"
   ]
  },
  {
   "cell_type": "code",
   "execution_count": 29,
   "metadata": {},
   "outputs": [
    {
     "data": {
      "text/plain": [
       "(960, 8)"
      ]
     },
     "execution_count": 29,
     "metadata": {},
     "output_type": "execute_result"
    }
   ],
   "source": [
    "df.shape"
   ]
  },
  {
   "cell_type": "markdown",
   "metadata": {},
   "source": [
    "#### **Analyzing Unique Users in a Dataset**"
   ]
  },
  {
   "cell_type": "code",
   "execution_count": 30,
   "metadata": {},
   "outputs": [
    {
     "data": {
      "text/plain": [
       "['Overall',\n",
       " '+92 300 4974756',\n",
       " '+92 300 6372500',\n",
       " '+92 300 7045809',\n",
       " '+92 300 8760724',\n",
       " '+92 300 9480599',\n",
       " '+92 302 1104820',\n",
       " '+92 302 6188000',\n",
       " '+92 302 6550280',\n",
       " '+92 302 6791109',\n",
       " '+92 303 6123098',\n",
       " '+92 304 1933595',\n",
       " '+92 304 4770248',\n",
       " '+92 304 5561462',\n",
       " '+92 304 6510483',\n",
       " '+92 305 1859128',\n",
       " '+92 305 2142860',\n",
       " '+92 305 7933007',\n",
       " '+92 306 4258670',\n",
       " '+92 306 6785416',\n",
       " '+92 306 9287947',\n",
       " '+92 307 3732356',\n",
       " '+92 307 4641982',\n",
       " '+92 307 7789508',\n",
       " '+92 308 3769685',\n",
       " '+92 308 7112492',\n",
       " '+92 309 2095756',\n",
       " '+92 309 3108513',\n",
       " '+92 309 7095014',\n",
       " '+92 310 4361015',\n",
       " '+92 310 4943542',\n",
       " '+92 310 8668380',\n",
       " '+92 311 1323932',\n",
       " '+92 311 9396966',\n",
       " '+92 312 3478519',\n",
       " '+92 312 9581399',\n",
       " '+92 313 1029011',\n",
       " '+92 313 2040046',\n",
       " '+92 313 4997451',\n",
       " '+92 314 1721775',\n",
       " '+92 315 1521759',\n",
       " '+92 315 4292972',\n",
       " '+92 315 4534792',\n",
       " '+92 317 1476609',\n",
       " '+92 317 9661942',\n",
       " '+92 319 6457650',\n",
       " '+92 319 7200178',\n",
       " '+92 320 8587480',\n",
       " '+92 320 9099349',\n",
       " '+92 321 2226008',\n",
       " '+92 321 2721004',\n",
       " '+92 321 3605311',\n",
       " '+92 321 4122103',\n",
       " '+92 321 8788609',\n",
       " '+92 322 5305720',\n",
       " '+92 322 8485616',\n",
       " '+92 323 5114548',\n",
       " '+92 323 6606342',\n",
       " '+92 323 8862333',\n",
       " '+92 324 0849609',\n",
       " '+92 324 3909940',\n",
       " '+92 324 7280468',\n",
       " '+92 326 0927271',\n",
       " '+92 327 2636962',\n",
       " '+92 327 6110594',\n",
       " '+92 327 7179560',\n",
       " '+92 328 8822005',\n",
       " '+92 328 9460713',\n",
       " '+92 331 2470902',\n",
       " '+92 331 3632939',\n",
       " '+92 331 4484468',\n",
       " '+92 332 2080596',\n",
       " '+92 332 8021821',\n",
       " '+92 332 8298997',\n",
       " '+92 332 9620056',\n",
       " '+92 333 0229088',\n",
       " '+92 333 1727254',\n",
       " '+92 333 2203353',\n",
       " '+92 333 9365986',\n",
       " '+92 334 1352612',\n",
       " '+92 334 2763208',\n",
       " '+92 334 2787399',\n",
       " '+92 334 3391992',\n",
       " '+92 334 5332804',\n",
       " '+92 334 7636590',\n",
       " '+92 334 9417243',\n",
       " '+92 336 0367246',\n",
       " '+92 336 2710451',\n",
       " '+92 336 7509812',\n",
       " '+92 340 3832748',\n",
       " '+92 340 5790021',\n",
       " '+92 341 0113675',\n",
       " '+92 342 1485637',\n",
       " '+92 342 1822526',\n",
       " '+92 343 2078351',\n",
       " '+92 343 6411185',\n",
       " '+92 344 0544757',\n",
       " '+92 344 5881772',\n",
       " '+92 344 8693214',\n",
       " '+92 345 0944813',\n",
       " '+92 345 7962931',\n",
       " '+92 345 9138794',\n",
       " '+92 346 2764766',\n",
       " '+92 348 7906778']"
      ]
     },
     "execution_count": 30,
     "metadata": {},
     "output_type": "execute_result"
    }
   ],
   "source": [
    "# Step 3: Extract unique users\n",
    "unique_users = df['User'].unique().tolist()\n",
    "\n",
    "# Step 4: Remove system-generated notifications\n",
    "if 'group_notification' in unique_users:\n",
    "    unique_users.remove('group_notification')\n",
    "\n",
    "# Step 5: Sort users alphabetically and add \"Overall\" option at the start\n",
    "unique_users.sort()\n",
    "unique_users.insert(0, \"Overall\")\n",
    "unique_users\n",
    "\n"
   ]
  },
  {
   "cell_type": "code",
   "execution_count": 31,
   "metadata": {},
   "outputs": [
    {
     "name": "stdout",
     "output_type": "stream",
     "text": [
      "User '+92 300 4974756' is in the list.\n"
     ]
    }
   ],
   "source": [
    "# Step 6: Display the specified user if they exist\n",
    "specific_user = \"+92 300 4974756\"\n",
    "if specific_user in unique_users:\n",
    "    print(f\"User '{specific_user}' is in the list.\")\n",
    "else:\n",
    "    print(f\"User '{specific_user}' is not in the list.\")"
   ]
  },
  {
   "cell_type": "markdown",
   "metadata": {},
   "source": [
    "#### **Fetching User Stats for WhatsApp Data**\n"
   ]
  },
  {
   "cell_type": "code",
   "execution_count": 32,
   "metadata": {},
   "outputs": [],
   "source": [
    "from urlextract import URLExtract # type: ignore\n",
    "from collections import Counter\n",
    "import emoji # type: ignore\n",
    "from wordcloud import WordCloud # type: ignore\n",
    "\n",
    "# Create an object that will help in extracting URLs\n",
    "extract = URLExtract()\n",
    "\n",
    "class Helper:\n",
    "    def __init__(self, df):\n",
    "        \"\"\"\n",
    "        Initializes the Helper class with a DataFrame containing WhatsApp data.\n",
    "        \n",
    "        Parameters:\n",
    "            df (pd.DataFrame): The DataFrame containing the WhatsApp data.\n",
    "        \"\"\"\n",
    "        self.df = df\n",
    "\n",
    "    def fetch_stats(self, selected_user):\n",
    "        \"\"\"\n",
    "        Fetch basic statistics for a selected user or for all users if 'Overall' is selected.\n",
    "\n",
    "        Parameters:\n",
    "            selected_user (str): The user to fetch stats for, or 'Overall' for aggregate stats.\n",
    "\n",
    "        Returns:\n",
    "            tuple: A tuple containing the number of messages, number of words, \n",
    "                   number of media messages, and number of links shared.\n",
    "        \"\"\"\n",
    "        # Ensure selected_user is a string (in case it's a pandas Series)\n",
    "        if not isinstance(selected_user, str):\n",
    "            raise ValueError(\"selected_user should be a string\")\n",
    "\n",
    "        # If the selected user is not 'Overall', filter the data for that specific user\n",
    "        if selected_user != 'Overall':\n",
    "            df_filtered = self.df[self.df['User'] == selected_user]\n",
    "        else:\n",
    "            df_filtered = self.df  # Use entire DataFrame for 'Overall' stats\n",
    "\n",
    "        # Count how many messages the selected user has sent\n",
    "        num_messages = df_filtered.shape[0]\n",
    "\n",
    "        # Create a list to hold all words from the messages\n",
    "        words = []\n",
    "        for message in df_filtered['Message']:\n",
    "            words.extend(message.split())\n",
    "\n",
    "        # Count how many media messages (like images or videos) the user sent\n",
    "        num_media_messages = df_filtered[df_filtered['Message'] == '<Media omitted>'].shape[0]\n",
    "\n",
    "        # Create a list to hold all the links shared by the user\n",
    "        links = []\n",
    "        for message in df_filtered['Message']:\n",
    "            links.extend(extract.find_urls(message))\n",
    "\n",
    "        # Return the statistics: total messages, word count, media count, link count\n",
    "        return num_messages, len(words), num_media_messages, len(links)\n"
   ]
  },
  {
   "cell_type": "code",
   "execution_count": 33,
   "metadata": {},
   "outputs": [],
   "source": [
    "helper = Helper(df)\n"
   ]
  },
  {
   "cell_type": "code",
   "execution_count": 34,
   "metadata": {},
   "outputs": [
    {
     "name": "stdout",
     "output_type": "stream",
     "text": [
      "Stats for User:(4, 94, 0, 0)\n",
      "Number of messages: 4\n",
      "Number of words: 94\n",
      "Number of media messages: 0\n",
      "Number of links shared: 0\n"
     ]
    }
   ],
   "source": [
    "# Fetch stats for a specific user (e.g., \"User1\")\n",
    "user_stats = helper.fetch_stats(specific_user)\n",
    "\n",
    "\n",
    "# Display the results for User1\n",
    "print(F\"Stats for User:{user_stats}\")\n",
    "print(f\"Number of messages: {user_stats[0]}\")\n",
    "print(f\"Number of words: {user_stats[1]}\")\n",
    "print(f\"Number of media messages: {user_stats[2]}\")\n",
    "print(f\"Number of links shared: {user_stats[3]}\")\n",
    "# Fetch overall stats (aggregated for all users)\n"
   ]
  },
  {
   "cell_type": "code",
   "execution_count": 35,
   "metadata": {},
   "outputs": [
    {
     "name": "stdout",
     "output_type": "stream",
     "text": [
      "\n",
      "Overall Stats:\n",
      "Number of messages: 960\n",
      "Number of words: 7960\n",
      "Number of media messages: 145\n",
      "Number of links shared: 52\n"
     ]
    }
   ],
   "source": [
    "# Fetch overall stats (aggregated for all users)\n",
    "overall_stats = helper.fetch_stats(\"Overall\")\n",
    "\n",
    "# Display the overall stats\n",
    "print(\"\\nOverall Stats:\")\n",
    "print(f\"Number of messages: {overall_stats[0]}\")\n",
    "print(f\"Number of words: {overall_stats[1]}\")\n",
    "print(f\"Number of media messages: {overall_stats[2]}\")\n",
    "print(f\"Number of links shared: {overall_stats[3]}\")\n"
   ]
  },
  {
   "cell_type": "markdown",
   "metadata": {},
   "source": [
    "#### **Visualizing Top 5 Most Active Users in Groups**"
   ]
  },
  {
   "cell_type": "code",
   "execution_count": 39,
   "metadata": {},
   "outputs": [
    {
     "data": {
      "image/png": "[encoded data removed]",
      "text/plain": [
       "<Figure size 1000x600 with 1 Axes>"
      ]
     },
     "metadata": {},
     "output_type": "display_data"
    }
   ],
   "source": [
    "import matplotlib.pyplot as plt  # type: ignore\n",
    "\n",
    "\n",
    "x=df['User'].value_counts().head()\n",
    "\n",
    "# Assuming 'x' is a pandas Series with index as users and values as counts\n",
    "name = x.index\n",
    "count = x.values\n",
    "\n",
    "# Set figure size for better visualization\n",
    "plt.figure(figsize=(10, 6))\n",
    "\n",
    "# Create a bar chart with customized colors and more aesthetically pleasing style\n",
    "plt.bar(name, count, color=['#4C72B0', '#55A868', '#F1A340', '#C44E52', '#8172B2'])\n",
    "\n",
    "# Add labels and title with improved font size and style\n",
    "plt.xlabel(\"Users\", fontsize=12)\n",
    "plt.ylabel(\"Activity Count\", fontsize=12)\n",
    "plt.title(\"Top 5 Most Active Users in Groups\", fontsize=14, fontweight='bold')\n",
    "\n",
    "# Rotate x-axis labels for better readability\n",
    "plt.xticks(rotation=45, ha='right', fontsize=10)\n",
    "\n",
    "# Adjust layout to avoid overlap and improve clarity\n",
    "plt.tight_layout()\n",
    "\n",
    "# Show the plot\n",
    "plt.show()\n"
   ]
  }
 ],
 "metadata": {
  "kernelspec": {
   "display_name": "waenv",
   "language": "python",
   "name": "python3"
  },
  "language_info": {
   "codemirror_mode": {
    "name": "ipython",
    "version": 3
   },
   "file_extension": ".py",
   "mimetype": "text/x-python",
   "name": "python",
   "nbconvert_exporter": "python",
   "pygments_lexer": "ipython3",
   "version": "3.8.20"
  }
 },
 "nbformat": 4,
 "nbformat_minor": 2
}
