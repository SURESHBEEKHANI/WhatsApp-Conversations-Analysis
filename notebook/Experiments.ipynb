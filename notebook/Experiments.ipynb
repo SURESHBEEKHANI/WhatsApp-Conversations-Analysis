{
 "cells": [
  {
   "cell_type": "markdown",
   "metadata": {},
   "source": [
    "#### **WhatsApp Chat Analysis in Streamlit**\n",
    "\n",
    "This notebook will guide you through building a **Streamlit app** to analyze WhatsApp chat data. The app allows users to upload their WhatsApp chat exports and provides various insights, such as message frequency, sentiment analysis, and the most active users."
   ]
  },
  {
   "cell_type": "markdown",
   "metadata": {},
   "source": [
    "#### **WhatsApp Chat Data Processing**\n",
    "\n",
    "In this notebook, we process a WhatsApp chat data file using regular expressions and `pandas` to clean and structure the data for further analysis.\n",
    "\n",
    "#### **Import Libraries** \n",
    "\n",
    "We will use `re` for regular expressions and `pandas` for data manipulation."
   ]
  },
  {
   "cell_type": "code",
   "execution_count": 3,
   "metadata": {},
   "outputs": [
    {
     "data": {
      "text/html": [
       "<div>\n",
       "<style scoped>\n",
       "    .dataframe tbody tr th:only-of-type {\n",
       "        vertical-align: middle;\n",
       "    }\n",
       "\n",
       "    .dataframe tbody tr th {\n",
       "        vertical-align: top;\n",
       "    }\n",
       "\n",
       "    .dataframe thead th {\n",
       "        text-align: right;\n",
       "    }\n",
       "</style>\n",
       "<table border=\"1\" class=\"dataframe\">\n",
       "  <thead>\n",
       "    <tr style=\"text-align: right;\">\n",
       "      <th></th>\n",
       "      <th>User</th>\n",
       "      <th>Message</th>\n",
       "      <th>Day</th>\n",
       "      <th>Month</th>\n",
       "      <th>Year</th>\n",
       "      <th>AMPM</th>\n",
       "      <th>Hour</th>\n",
       "      <th>Minute</th>\n",
       "    </tr>\n",
       "  </thead>\n",
       "  <tbody>\n",
       "    <tr>\n",
       "      <th>0</th>\n",
       "      <td>+92 303 6123098</td>\n",
       "      <td>Assalamualaikum wa rehmatullahi wa baraktuh</td>\n",
       "      <td>Thursday</td>\n",
       "      <td>July</td>\n",
       "      <td>2024</td>\n",
       "      <td>pm</td>\n",
       "      <td>6</td>\n",
       "      <td>39</td>\n",
       "    </tr>\n",
       "    <tr>\n",
       "      <th>1</th>\n",
       "      <td>+92 303 6123098</td>\n",
       "      <td>Agr koe kr skta to mjy bta dyn Mai unko cv per...</td>\n",
       "      <td>Thursday</td>\n",
       "      <td>July</td>\n",
       "      <td>2024</td>\n",
       "      <td>pm</td>\n",
       "      <td>6</td>\n",
       "      <td>40</td>\n",
       "    </tr>\n",
       "    <tr>\n",
       "      <th>2</th>\n",
       "      <td>+92 328 9460713</td>\n",
       "      <td>&lt;Media omitted&gt;</td>\n",
       "      <td>Thursday</td>\n",
       "      <td>July</td>\n",
       "      <td>2024</td>\n",
       "      <td>pm</td>\n",
       "      <td>9</td>\n",
       "      <td>36</td>\n",
       "    </tr>\n",
       "    <tr>\n",
       "      <th>3</th>\n",
       "      <td>+92 328 9460713</td>\n",
       "      <td>Remember Brothers, Don't miss it !</td>\n",
       "      <td>Thursday</td>\n",
       "      <td>July</td>\n",
       "      <td>2024</td>\n",
       "      <td>pm</td>\n",
       "      <td>9</td>\n",
       "      <td>38</td>\n",
       "    </tr>\n",
       "    <tr>\n",
       "      <th>4</th>\n",
       "      <td>+92 310 8668380</td>\n",
       "      <td>&lt;Media omitted&gt;</td>\n",
       "      <td>Friday</td>\n",
       "      <td>July</td>\n",
       "      <td>2024</td>\n",
       "      <td>am</td>\n",
       "      <td>3</td>\n",
       "      <td>18</td>\n",
       "    </tr>\n",
       "  </tbody>\n",
       "</table>\n",
       "</div>"
      ],
      "text/plain": [
       "              User                                            Message  \\\n",
       "0  +92 303 6123098       Assalamualaikum wa rehmatullahi wa baraktuh    \n",
       "1  +92 303 6123098  Agr koe kr skta to mjy bta dyn Mai unko cv per...   \n",
       "2  +92 328 9460713                                    <Media omitted>   \n",
       "3  +92 328 9460713                 Remember Brothers, Don't miss it !   \n",
       "4  +92 310 8668380                                    <Media omitted>   \n",
       "\n",
       "        Day Month  Year AMPM Hour Minute  \n",
       "0  Thursday  July  2024   pm    6     39  \n",
       "1  Thursday  July  2024   pm    6     40  \n",
       "2  Thursday  July  2024   pm    9     36  \n",
       "3  Thursday  July  2024   pm    9     38  \n",
       "4    Friday  July  2024   am    3     18  "
      ]
     },
     "execution_count": 3,
     "metadata": {},
     "output_type": "execute_result"
    }
   ],
   "source": [
    "import re\n",
    "import pandas as pd\n",
    "\n",
    "f = open(\"WhatsApp Chat with Group discussion(AI).txt\", \"r\", encoding=\"utf-8\")\n",
    "data=f.read()\n",
    "\n",
    "# Regex pattern to match the chat log format\n",
    "pattern = r\"(\\d{2}/\\d{2}/\\d{4}),\\s(\\d{1,2}:\\d{2}\\s?[ap]m)\\s-\\s(\\+\\d{2}\\s\\d{3}\\s\\d{7}):\\s(.*)\"\n",
    "\n",
    "# Assuming `data` is the raw chat log string\n",
    "matches = re.findall(pattern, data)\n",
    "\n",
    "# Create a DataFrame from the extracted matches\n",
    "df = pd.DataFrame(matches, columns=['Date', 'Time', 'User', 'Message'])\n",
    "\n",
    "# Split the 'Date' column into 'Day', 'Month', 'Year'\n",
    "df[['Day', 'Month', 'Year']] = df['Date'].str.split('/', expand=True)\n",
    "\n",
    "# Convert 'Date' to datetime format to extract the day name and month name\n",
    "df['Date'] = pd.to_datetime(df['Date'], format='%d/%m/%Y')\n",
    "\n",
    "# Extract the Day name (e.g., Monday, Tuesday)\n",
    "df['Day'] = df['Date'].dt.strftime('%A')  # Get the day name (e.g., \"Monday\")\n",
    "\n",
    "# Extract the Month name (e.g., January, February)\n",
    "df['Month'] = df['Date'].dt.strftime('%B')  # Get the full month name (e.g., \"July\")\n",
    "\n",
    "# Clean up and split the 'Time' column into 'Hour', 'Minute', and 'AMPM'\n",
    "df['Time'] = df['Time'].str.replace('\\u202f', ' ')  # Remove non-breaking spaces\n",
    "\n",
    "# Split the cleaned 'Time' column into 'Hour:Minute' and 'AMPM'\n",
    "df[['Hour_Minute', 'AMPM']] = df['Time'].str.extract(r'(\\d{1,2}:\\d{2})\\s?(am|pm)', expand=True)\n",
    "\n",
    "# Split the 'Hour_Minute' into 'Hour' and 'Minute'\n",
    "df[['Hour', 'Minute']] = df['Hour_Minute'].str.split(':', expand=True)\n",
    "\n",
    "# Drop the original 'Date' and 'Time' columns if you don't need them anymore\n",
    "df = df.drop(columns=['Date', 'Time', 'Hour_Minute'])\n",
    "\n",
    "# Display the DataFrame\n",
    "df.head()\n"
   ]
  },
  {
   "cell_type": "markdown",
   "metadata": {},
   "source": [
    "### **2. Basic Statistics** ###"
   ]
  },
  {
   "cell_type": "code",
   "execution_count": 4,
   "metadata": {},
   "outputs": [
    {
     "data": {
      "text/html": [
       "<div>\n",
       "<style scoped>\n",
       "    .dataframe tbody tr th:only-of-type {\n",
       "        vertical-align: middle;\n",
       "    }\n",
       "\n",
       "    .dataframe tbody tr th {\n",
       "        vertical-align: top;\n",
       "    }\n",
       "\n",
       "    .dataframe thead th {\n",
       "        text-align: right;\n",
       "    }\n",
       "</style>\n",
       "<table border=\"1\" class=\"dataframe\">\n",
       "  <thead>\n",
       "    <tr style=\"text-align: right;\">\n",
       "      <th></th>\n",
       "      <th>User</th>\n",
       "      <th>Message</th>\n",
       "      <th>Day</th>\n",
       "      <th>Month</th>\n",
       "      <th>Year</th>\n",
       "      <th>AMPM</th>\n",
       "      <th>Hour</th>\n",
       "      <th>Minute</th>\n",
       "    </tr>\n",
       "  </thead>\n",
       "  <tbody>\n",
       "    <tr>\n",
       "      <th>count</th>\n",
       "      <td>960</td>\n",
       "      <td>960</td>\n",
       "      <td>960</td>\n",
       "      <td>960</td>\n",
       "      <td>960</td>\n",
       "      <td>960</td>\n",
       "      <td>960</td>\n",
       "      <td>960</td>\n",
       "    </tr>\n",
       "    <tr>\n",
       "      <th>unique</th>\n",
       "      <td>103</td>\n",
       "      <td>738</td>\n",
       "      <td>7</td>\n",
       "      <td>5</td>\n",
       "      <td>1</td>\n",
       "      <td>2</td>\n",
       "      <td>12</td>\n",
       "      <td>60</td>\n",
       "    </tr>\n",
       "    <tr>\n",
       "      <th>top</th>\n",
       "      <td>+92 307 7789508</td>\n",
       "      <td>&lt;Media omitted&gt;</td>\n",
       "      <td>Thursday</td>\n",
       "      <td>August</td>\n",
       "      <td>2024</td>\n",
       "      <td>pm</td>\n",
       "      <td>11</td>\n",
       "      <td>02</td>\n",
       "    </tr>\n",
       "    <tr>\n",
       "      <th>freq</th>\n",
       "      <td>88</td>\n",
       "      <td>145</td>\n",
       "      <td>247</td>\n",
       "      <td>324</td>\n",
       "      <td>960</td>\n",
       "      <td>708</td>\n",
       "      <td>136</td>\n",
       "      <td>39</td>\n",
       "    </tr>\n",
       "  </tbody>\n",
       "</table>\n",
       "</div>"
      ],
      "text/plain": [
       "                   User          Message       Day   Month  Year AMPM Hour  \\\n",
       "count               960              960       960     960   960  960  960   \n",
       "unique              103              738         7       5     1    2   12   \n",
       "top     +92 307 7789508  <Media omitted>  Thursday  August  2024   pm   11   \n",
       "freq                 88              145       247     324   960  708  136   \n",
       "\n",
       "       Minute  \n",
       "count     960  \n",
       "unique     60  \n",
       "top        02  \n",
       "freq       39  "
      ]
     },
     "execution_count": 4,
     "metadata": {},
     "output_type": "execute_result"
    }
   ],
   "source": [
    "df.describe()"
   ]
  },
  {
   "cell_type": "code",
   "execution_count": 5,
   "metadata": {},
   "outputs": [
    {
     "name": "stdout",
     "output_type": "stream",
     "text": [
      "<class 'pandas.core.frame.DataFrame'>\n",
      "RangeIndex: 960 entries, 0 to 959\n",
      "Data columns (total 8 columns):\n",
      " #   Column   Non-Null Count  Dtype \n",
      "---  ------   --------------  ----- \n",
      " 0   User     960 non-null    object\n",
      " 1   Message  960 non-null    object\n",
      " 2   Day      960 non-null    object\n",
      " 3   Month    960 non-null    object\n",
      " 4   Year     960 non-null    object\n",
      " 5   AMPM     960 non-null    object\n",
      " 6   Hour     960 non-null    object\n",
      " 7   Minute   960 non-null    object\n",
      "dtypes: object(8)\n",
      "memory usage: 60.1+ KB\n"
     ]
    }
   ],
   "source": [
    "# Basic stats and general information\n",
    "df.info()"
   ]
  },
  {
   "cell_type": "code",
   "execution_count": 6,
   "metadata": {},
   "outputs": [
    {
     "data": {
      "text/plain": [
       "(960, 8)"
      ]
     },
     "execution_count": 6,
     "metadata": {},
     "output_type": "execute_result"
    }
   ],
   "source": [
    "df.shape"
   ]
  },
  {
   "cell_type": "code",
   "execution_count": 8,
   "metadata": {},
   "outputs": [
    {
     "data": {
      "text/plain": [
       "(88, 8)"
      ]
     },
     "execution_count": 8,
     "metadata": {},
     "output_type": "execute_result"
    }
   ],
   "source": [
    "df[df['User']==\"+92 307 7789508\"].shape"
   ]
  },
  {
   "cell_type": "code",
   "execution_count": 9,
   "metadata": {},
   "outputs": [
    {
     "name": "stdout",
     "output_type": "stream",
     "text": [
      "(88, 8)\n"
     ]
    }
   ],
   "source": [
    "# Filter rows where the 'User' column is equal to '+92 307 7789508'\n",
    "result = df[df['User'] == \"+92 307 7789508\"].shape\n",
    "\n",
    "print(result)  # Output will be (3, 2) indicating 3 rows and 2 columns"
   ]
  }
 ],
 "metadata": {
  "kernelspec": {
   "display_name": "waenv",
   "language": "python",
   "name": "python3"
  },
  "language_info": {
   "codemirror_mode": {
    "name": "ipython",
    "version": 3
   },
   "file_extension": ".py",
   "mimetype": "text/x-python",
   "name": "python",
   "nbconvert_exporter": "python",
   "pygments_lexer": "ipython3",
   "version": "3.8.20"
  }
 },
 "nbformat": 4,
 "nbformat_minor": 2
}
